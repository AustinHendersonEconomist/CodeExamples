{
 "cells": [
  {
   "cell_type": "code",
   "execution_count": 18,
   "id": "f4be2643",
   "metadata": {},
   "outputs": [],
   "source": [
    "# Import required libraries\n",
    "import pandas as pd\n",
    "from scipy.stats import mannwhitneyu, chisquare, fisher_exact\n",
    "import statsmodels.api as sm\n",
    "import statsmodels.formula.api as smf\n",
    "from statsmodels.formula.api import ols\n",
    "import numpy as np"
   ]
  },
  {
   "cell_type": "code",
   "execution_count": 19,
   "id": "a66d810d",
   "metadata": {},
   "outputs": [],
   "source": [
    "# Fetching the main analysis CSV file from GitHub\n",
    "url = \"https://raw.githubusercontent.com/AustinHendersonEconomist/CodeExamples/main/TDIE_data_main.csv\"\n",
    "response = requests.get(url)\n",
    "df = pd.read_csv(io.StringIO(response.text))"
   ]
  },
  {
   "cell_type": "code",
   "execution_count": 20,
   "id": "d00f99a3",
   "metadata": {},
   "outputs": [
    {
     "name": "stdout",
     "output_type": "stream",
     "text": [
      "Chi-squared test for obs1: chisq=26.71, p=0.0\n",
      "Chi-squared test for obs2: chisq=13.1, p=0.02\n"
     ]
    }
   ],
   "source": [
    "# 1. Chi square-test\n",
    "obs1 = [14, 6, 15, 20, 30, 33]\n",
    "obs2 = [11, 12, 27, 23, 27, 25]\n",
    "chisq1, p1 = chisquare(obs1)\n",
    "chisq2, p2 = chisquare(obs2)\n",
    "print(f\"Chi-squared test for obs1: chisq={round(chisq1, 2)}, p={round(p1, 2)}\")\n",
    "print(f\"Chi-squared test for obs2: chisq={round(chisq2, 2)}, p={round(p2, 2)}\")"
   ]
  },
  {
   "cell_type": "code",
   "execution_count": 21,
   "id": "dfa9ac79",
   "metadata": {},
   "outputs": [
    {
     "name": "stdout",
     "output_type": "stream",
     "text": [
      "Mann-Whitney U-test for dieroll by treatment: U=6473.5, p=0.11611136702850341\n"
     ]
    }
   ],
   "source": [
    "# 2. Mann-Whitney U-test\n",
    "grouped_dieroll = [df['dieroll'][df['treatment'] == treatment] for treatment in df['treatment'].unique()]\n",
    "U_stat, p_value = mannwhitneyu(*grouped_dieroll)\n",
    "print(f\"Mann-Whitney U-test for dieroll by treatment: U={U_stat}, p={p_value}\")"
   ]
  },
  {
   "cell_type": "code",
   "execution_count": 22,
   "id": "01bf2bf4",
   "metadata": {},
   "outputs": [
    {
     "name": "stdout",
     "output_type": "stream",
     "text": [
      "Fisher's exact test: Odds Ratio=1.5238095238095237, p=0.17554485483474835\n"
     ]
    }
   ],
   "source": [
    "# 3. Fisher's exact test\n",
    "oddsratio, p_value = fisher_exact([[32, 84], [25, 100]])\n",
    "print(f\"Fisher's exact test: Odds Ratio={oddsratio}, p={p_value}\")"
   ]
  },
  {
   "cell_type": "code",
   "execution_count": 23,
   "id": "e6bd10f0",
   "metadata": {},
   "outputs": [
    {
     "name": "stdout",
     "output_type": "stream",
     "text": [
      "Effect Size: 53.52925695754939\n"
     ]
    }
   ],
   "source": [
    "# 4. Effect size\n",
    "n1 = len(grouped_dieroll[0])\n",
    "n2 = len(grouped_dieroll[1])\n",
    "effect_size = U_stat / np.sqrt(n1 * n2)\n",
    "print(f\"Effect Size: {effect_size}\")"
   ]
  },
  {
   "cell_type": "code",
   "execution_count": 30,
   "id": "86ab6388",
   "metadata": {
    "scrolled": true
   },
   "outputs": [
    {
     "name": "stdout",
     "output_type": "stream",
     "text": [
      "Pooled Cohen's d: -0.28\n",
      "Standard error: 0.12\n",
      "95% CI: (-0.52, -0.04)\n"
     ]
    }
   ],
   "source": [
    "# Fetching the meta-analysis .csv from GitHub\n",
    "url2 = \"https://raw.githubusercontent.com/AustinHendersonEconomist/CodeExamples/main/diemeta.csv\"\n",
    "response2 = requests.get(url2)\n",
    "df2 = pd.read_csv(io.StringIO(response2.text))\n",
    "\n",
    "# Computing Cohen's d for each study\n",
    "df2['cohen_d'] = (df2['mean1'] - df2['mean2']) / np.sqrt((df2['sd1']**2 + df2['sd2']**2) / 2)\n",
    "\n",
    "# Computing the weight for each study in fixed-effects meta-analysis\n",
    "df2['weight'] = 1 / ((df2['sd1']**2/df2['n1'] + df2['sd2']**2/df2['n2']) / 2)\n",
    "\n",
    "# Computing the pooled Cohen's d\n",
    "pooled_cohen_d = round(np.sum(df2['cohen_d'] * df2['weight']) / np.sum(df2['weight']), 2)\n",
    "\n",
    "# Computing the standard error of the pooled Cohen's d\n",
    "se_pooled_cohen_d = round(np.sqrt(1 / np.sum(df2['weight'])), 2)\n",
    "\n",
    "print(f'Pooled Cohen\\'s d: {pooled_cohen_d}')\n",
    "print(f'Standard error: {se_pooled_cohen_d}')\n",
    "\n",
    "# 95% Confidence interval\n",
    "ci_low = round(pooled_cohen_d - 1.96 * se_pooled_cohen_d, 2)\n",
    "ci_high = round(pooled_cohen_d + 1.96 * se_pooled_cohen_d, 2)\n",
    "\n",
    "print(f'95% CI: ({ci_low}, {ci_high})')\n"
   ]
  }
 ],
 "metadata": {
  "kernelspec": {
   "display_name": "Python 3 (ipykernel)",
   "language": "python",
   "name": "python3"
  },
  "language_info": {
   "codemirror_mode": {
    "name": "ipython",
    "version": 3
   },
   "file_extension": ".py",
   "mimetype": "text/x-python",
   "name": "python",
   "nbconvert_exporter": "python",
   "pygments_lexer": "ipython3",
   "version": "3.10.9"
  }
 },
 "nbformat": 4,
 "nbformat_minor": 5
}
