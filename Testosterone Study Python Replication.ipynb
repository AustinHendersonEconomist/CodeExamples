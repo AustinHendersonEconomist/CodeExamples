{
 "cells": [
  {
   "cell_type": "markdown",
   "id": "edddba4f",
   "metadata": {},
   "source": [
    "### Importing all libraries"
   ]
  },
  {
   "cell_type": "code",
   "execution_count": 1,
   "id": "f4be2643",
   "metadata": {},
   "outputs": [],
   "source": [
    "import pandas as pd\n",
    "from scipy.stats import mannwhitneyu, chisquare, fisher_exact\n",
    "import statsmodels.api as sm\n",
    "import statsmodels.formula.api as smf\n",
    "from statsmodels.formula.api import ols\n",
    "import numpy as np\n",
    "import requests\n",
    "import io\n",
    "from scipy.stats import ttest_ind\n",
    "from scipy.stats import norm\n",
    "import seaborn as sns\n",
    "import matplotlib.pyplot as plt"
   ]
  },
  {
   "cell_type": "markdown",
   "id": "3f50c6c7",
   "metadata": {},
   "source": [
    "### For this analysis, I will be fetching the main analysis file which I host on my GitHub."
   ]
  },
  {
   "cell_type": "code",
   "execution_count": 2,
   "id": "a66d810d",
   "metadata": {},
   "outputs": [],
   "source": [
    "# Fetching the main analysis CSV file from GitHub\n",
    "url = \"https://raw.githubusercontent.com/AustinHendersonEconomist/CodeExamples/main/TDIE_data_main.csv\"\n",
    "response = requests.get(url)\n",
    "df = pd.read_csv(io.StringIO(response.text))"
   ]
  },
  {
   "cell_type": "markdown",
   "id": "5d82d7be",
   "metadata": {},
   "source": [
    "### First, I visualize the data by comparing the distribution of reported rolls across treatment and control groups."
   ]
  },
  {
   "cell_type": "code",
   "execution_count": 3,
   "id": "1e684460",
   "metadata": {},
   "outputs": [
    {
     "data": {
      "text/plain": [
       "<Figure size 1200x800 with 0 Axes>"
      ]
     },
     "metadata": {},
     "output_type": "display_data"
    },
    {
     "data": {
      "image/png": "[encoded data removed]",
      "text/plain": [
       "<Figure size 1000x500 with 2 Axes>"
      ]
     },
     "metadata": {},
     "output_type": "display_data"
    }
   ],
   "source": [
    "df['count'] = 1\n",
    "grouped_df = df.groupby(['treatment', 'dieroll']).count().reset_index()\n",
    "total_counts = grouped_df.groupby('treatment')['count'].transform('sum')\n",
    "grouped_df['percent'] = (grouped_df['count'] / total_counts) * 100\n",
    "\n",
    "# Plotting\n",
    "plt.figure(figsize=(12, 8))\n",
    "g = sns.catplot(x='dieroll', y='percent', hue='treatment', kind='bar', data=grouped_df, palette='viridis', col='treatment')\n",
    "g.set_axis_labels(\"Die Roll\", \"Percent (%)\")\n",
    "\n",
    "# Add a dashed line at y=16.67\n",
    "for ax in g.axes.flat:\n",
    "    ax.axhline(y=16.67, color='r', linestyle='--', linewidth=1)\n",
    "\n",
    "axes = g.axes.flat\n",
    "axes[0].set_title('Control')\n",
    "axes[1].set_title('Treatment')\n",
    "\n",
    "\n",
    "g.set_xlabels('')\n",
    "plt.suptitle('Distribution of Reported Rolls by Treatment', y=1.02)\n",
    "plt.show()"
   ]
  },
  {
   "cell_type": "markdown",
   "id": "97452e26",
   "metadata": {},
   "source": [
    "### Then, I run a χ2-test against uniform distribution to check for evidence of self serving lying in treatment (testosterone) and control (placebo) groups. This would be indicated by a right-skewed distribution, i.e. more high numbers reported than we would expect via chance."
   ]
  },
  {
   "cell_type": "code",
   "execution_count": 4,
   "id": "d00f99a3",
   "metadata": {},
   "outputs": [
    {
     "name": "stdout",
     "output_type": "stream",
     "text": [
      "Chi-squared test for treatment: chisq=13.1, p=0.02\n",
      "Chi-squared test for control: chisq=26.71, p=0.0\n"
     ]
    }
   ],
   "source": [
    "# 1. Chi square-test\n",
    "obs1 = [14, 6, 15, 20, 30, 33]\n",
    "obs2 = [11, 12, 27, 23, 27, 25]\n",
    "chisq1, p1 = chisquare(obs1)\n",
    "chisq2, p2 = chisquare(obs2)\n",
    "\n",
    "print(f\"Chi-squared test for treatment: chisq={round(chisq2, 2)}, p={round(p2, 2)}\")\n",
    "print(f\"Chi-squared test for control: chisq={round(chisq1, 2)}, p={round(p1, 2)}\")"
   ]
  },
  {
   "cell_type": "markdown",
   "id": "f43ddb5c",
   "metadata": {},
   "source": [
    "### I find that I can reject the null-hypothesis of uniform distribution for both groups, thus, both groups are lying to increase their earnings. \n",
    "\n",
    "### Next, I use a Mann-Whitney U-test to Test for diferences in the distributions of reported die rolls between treatment and control. "
   ]
  },
  {
   "cell_type": "code",
   "execution_count": 5,
   "id": "dfa9ac79",
   "metadata": {},
   "outputs": [
    {
     "name": "stdout",
     "output_type": "stream",
     "text": [
      "Mann-Whitney U-test for reported die roll by treatment: U=6473.5, p=0.12\n"
     ]
    }
   ],
   "source": [
    "# 2. Mann-Whitney U-test\n",
    "grouped_dieroll = [df['dieroll'][df['treatment'] == treatment] for treatment in df['treatment'].unique()]\n",
    "U_stat, p_value = mannwhitneyu(*grouped_dieroll)\n",
    "print(f\"Mann-Whitney U-test for reported die roll by treatment: U={U_stat}, p={round(p_value,2)}\")"
   ]
  },
  {
   "cell_type": "markdown",
   "id": "f35ed287",
   "metadata": {},
   "source": [
    "### The Mann-Whitney U-test shows I cannot reject the null hypothesis that the distribution of reported die rolls is the same across treatment and control groups. \n",
    "\n",
    "### I then run a Fisher's exact test to see whether the number with the highest payof was reported more frequently in treatment as compared to control."
   ]
  },
  {
   "cell_type": "code",
   "execution_count": 6,
   "id": "01bf2bf4",
   "metadata": {},
   "outputs": [
    {
     "name": "stdout",
     "output_type": "stream",
     "text": [
      "Fisher's exact test: Odds Ratio=1.52, p=0.18\n"
     ]
    }
   ],
   "source": [
    "# 3. Fisher's exact test\n",
    "oddsratio, p_value = fisher_exact([[32, 84], [25, 100]])\n",
    "print(f\"Fisher's exact test: Odds Ratio={round(oddsratio,2)}, p={round(p_value,2)}\")"
   ]
  },
  {
   "cell_type": "markdown",
   "id": "71899518",
   "metadata": {},
   "source": [
    "### Similarly, I find I cannot reject the null hypothesis that the highest possible outcome was not reported at a different frequency across treatment groups.\n",
    "\n",
    "### Lastly, I run a 2-sided t-test to compare mean reported die rolls across treatment groups, and then estimate the effect size. "
   ]
  },
  {
   "cell_type": "code",
   "execution_count": 7,
   "id": "e6bd10f0",
   "metadata": {},
   "outputs": [
    {
     "name": "stdout",
     "output_type": "stream",
     "text": [
      "T-statistic: -1.31\n",
      "P-value: 0.19\n"
     ]
    }
   ],
   "source": [
    "# 4 T-test\n",
    "group_A = df[df['treatment'] == 1]['dieroll']\n",
    "group_B = df[df['treatment'] == 0]['dieroll']\n",
    "\n",
    "# Perform the two-sided t-test\n",
    "t_stat, p_val = ttest_ind(group_A, group_B, alternative='two-sided')\n",
    "\n",
    "# Output the results\n",
    "print(f\"T-statistic: {t_stat:.2f}\")\n",
    "print(f\"P-value: {p_val:.2f}\")"
   ]
  },
  {
   "cell_type": "code",
   "execution_count": 8,
   "id": "a7540565",
   "metadata": {},
   "outputs": [
    {
     "name": "stdout",
     "output_type": "stream",
     "text": [
      "Cohen's d: -0.17\n",
      "95% CI for Cohen's d: (-0.42, 0.08)\n"
     ]
    }
   ],
   "source": [
    "# 5 Effect size\n",
    "mean_0, std_0 = group_A.mean(), group_A.std()\n",
    "mean_1, std_1 = group_B.mean(), group_B.std()\n",
    "\n",
    "# Calculate the number of samples in each group\n",
    "n_0 = len(group_A)\n",
    "n_1 = len(group_B)\n",
    "\n",
    "# Calculate Cohen's d\n",
    "cohen_d = (mean_0 - mean_1) / np.sqrt((std_0**2 + std_1**2) / 2)\n",
    "\n",
    "# Z-value for 95% confidence\n",
    "z_value = norm.ppf(0.975)  \n",
    "\n",
    "# Calculate the standard error and margin of error\n",
    "std_error = np.sqrt((1 / n_0) + (1 / n_1))\n",
    "margin_of_error = z_value * std_error\n",
    "\n",
    "# Calculate the confidence interval\n",
    "ci_lower = round(cohen_d - margin_of_error, 2)\n",
    "ci_upper = round(cohen_d + margin_of_error, 2)\n",
    "\n",
    "\n",
    "# Output Cohen's d  and 95% CI\n",
    "print(f\"Cohen's d: {round(cohen_d, 2)}\")\n",
    "print(f\"95% CI for Cohen's d: ({round(ci_lower, 2)}, {round(ci_upper, 2)})\")"
   ]
  },
  {
   "cell_type": "markdown",
   "id": "6b589d40",
   "metadata": {},
   "source": [
    "### I find I cannot reject the null of no differences in the mean reported roll between treatment groups, or that the effect size is equal to 0.\n",
    "\n",
    "## I then continue with a meta-analysis, by combining our data with that of Wibral et al. in a fixed effects model."
   ]
  },
  {
   "cell_type": "code",
   "execution_count": 9,
   "id": "86ab6388",
   "metadata": {
    "scrolled": true
   },
   "outputs": [
    {
     "name": "stdout",
     "output_type": "stream",
     "text": [
      "Pooled Cohen's d: -0.28\n",
      "Standard error: 0.12\n",
      "95% CI: (-0.52, -0.04)\n"
     ]
    }
   ],
   "source": [
    "# Fetching the meta-analysis .csv from GitHub\n",
    "url2 = \"https://raw.githubusercontent.com/AustinHendersonEconomist/CodeExamples/main/diemeta.csv\"\n",
    "response2 = requests.get(url2)\n",
    "df2 = pd.read_csv(io.StringIO(response2.text))\n",
    "\n",
    "# Computing Cohen's d for each study\n",
    "df2['cohen_d'] = (df2['mean1'] - df2['mean2']) / np.sqrt((df2['sd1']**2 + df2['sd2']**2) / 2)\n",
    "\n",
    "# Computing the weight for each study in fixed-effects meta-analysis\n",
    "df2['weight'] = 1 / ((df2['sd1']**2/df2['n1'] + df2['sd2']**2/df2['n2']) / 2)\n",
    "\n",
    "# Computing the pooled Cohen's d\n",
    "pooled_cohen_d = round(np.sum(df2['cohen_d'] * df2['weight']) / np.sum(df2['weight']), 2)\n",
    "\n",
    "# Computing the standard error of the pooled Cohen's d\n",
    "se_pooled_cohen_d = round(np.sqrt(1 / np.sum(df2['weight'])), 2)\n",
    "\n",
    "print(f'Pooled Cohen\\'s d: {pooled_cohen_d}')\n",
    "print(f'Standard error: {se_pooled_cohen_d}')\n",
    "\n",
    "# 95% Confidence interval\n",
    "ci_low = round(pooled_cohen_d - 1.96 * se_pooled_cohen_d, 2)\n",
    "ci_high = round(pooled_cohen_d + 1.96 * se_pooled_cohen_d, 2)\n",
    "\n",
    "print(f'95% CI: ({ci_low}, {ci_high})')"
   ]
  },
  {
   "cell_type": "markdown",
   "id": "232756a3",
   "metadata": {},
   "source": [
    "### This analysis shows that when the studies are combined we find that testosterone administration causes greater honesty, just with a smaller effect size than in the Wibral et al. paper. Please read the full study for more information!"
   ]
  }
 ],
 "metadata": {
  "kernelspec": {
   "display_name": "Python 3 (ipykernel)",
   "language": "python",
   "name": "python3"
  },
  "language_info": {
   "codemirror_mode": {
    "name": "ipython",
    "version": 3
   },
   "file_extension": ".py",
   "mimetype": "text/x-python",
   "name": "python",
   "nbconvert_exporter": "python",
   "pygments_lexer": "ipython3",
   "version": "3.10.9"
  }
 },
 "nbformat": 4,
 "nbformat_minor": 5
}
